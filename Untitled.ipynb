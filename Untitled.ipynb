{
 "cells": [
  {
   "cell_type": "code",
   "execution_count": 20,
   "id": "d7927986-3e81-4293-96c2-f09ce564843b",
   "metadata": {},
   "outputs": [],
   "source": [
    "import torch\n",
    "from torch.utils.data import Dataset\n",
    "from torchvision import datasets as vis_datasets\n",
    "from torchvision.transforms import ToTensor\n",
    "from torch.utils.data.sampler import SubsetRandomSampler\n",
    "import matplotlib.pyplot as plt\n",
    "import numpy as np\n",
    "from torchtext import datasets as txt_datasets\n",
    "\n",
    "\n",
    "# This is a sample Python script.\n",
    "\n",
    "# Press ⌃R to execute it or replace it with your code.\n",
    "# Press Double ⇧ to search everywhere for classes, files, tool windows, actions, and settings.\n",
    "\n",
    "train_data = vis_datasets.FashionMNIST(\n",
    "    root='data',\n",
    "    train=True,\n",
    "    download=True,\n",
    "    transform=ToTensor()\n",
    ")"
   ]
  },
  {
   "cell_type": "code",
   "execution_count": 21,
   "id": "ae318f26-2dea-447e-9daa-d22561a1a711",
   "metadata": {},
   "outputs": [],
   "source": [
    "test_data = vis_datasets.FashionMNIST(\n",
    "    root='data',\n",
    "    train=False,\n",
    "    download=True,\n",
    "    transform=ToTensor()\n",
    ")"
   ]
  },
  {
   "cell_type": "code",
   "execution_count": 27,
   "id": "ecc97111-717b-49fe-b4e6-b7d5c02d7b8e",
   "metadata": {},
   "outputs": [],
   "source": [
    "# create a validate sample from training dataset\n",
    "indices = list(range(len(train_data)))\n",
    "np.random.shuffle(indices)\n",
    "split = int(np.floor(0.2 * len(train_data)))\n",
    "train_sample = SubsetRandomSampler(indices[:split])\n",
    "validate_sample = SubsetRandomSampler(indices[split:])"
   ]
  },
  {
   "cell_type": "code",
   "execution_count": 28,
   "id": "5965649e-637d-4517-b3f0-be16676d0e52",
   "metadata": {},
   "outputs": [],
   "source": [
    "# data loader\n",
    "trainloader = torch.utils.data.DataLoader(train_data, sampler=train_sample, batch_size=64)\n",
    "validloader = torch.utils.data.DataLoader(train_data, sampler=validate_sample, batch_size=64)\n",
    "testloader = torch.utils.data.DataLoader(test_data, batch_size=64, shuffle=True)"
   ]
  },
  {
   "cell_type": "code",
   "execution_count": 31,
   "id": "fb4b671b-9664-4401-bde4-ce0e3b646986",
   "metadata": {},
   "outputs": [
    {
     "name": "stdout",
     "output_type": "stream",
     "text": [
      "<torch.utils.data.dataloader._SingleProcessDataLoaderIter object at 0x12022c8d0>\n"
     ]
    }
   ],
   "source": [
    "%matplotlib inline\n",
    "dataiter = iter(trainloader)\n",
    "print(dataiter)\n",
    "images,labels = next(dataiter)"
   ]
  },
  {
   "cell_type": "code",
   "execution_count": null,
   "id": "ead78e7e-3c13-4ac4-9729-2014a13e4596",
   "metadata": {},
   "outputs": [],
   "source": []
  }
 ],
 "metadata": {
  "kernelspec": {
   "display_name": "Python 3 (ipykernel)",
   "language": "python",
   "name": "python3"
  },
  "language_info": {
   "codemirror_mode": {
    "name": "ipython",
    "version": 3
   },
   "file_extension": ".py",
   "mimetype": "text/x-python",
   "name": "python",
   "nbconvert_exporter": "python",
   "pygments_lexer": "ipython3",
   "version": "3.11.6"
  }
 },
 "nbformat": 4,
 "nbformat_minor": 5
}
